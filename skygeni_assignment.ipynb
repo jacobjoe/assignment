{
 "cells": [
  {
   "cell_type": "markdown",
   "id": "86e1e4c1-9f6a-425a-af68-07e4d51eecdf",
   "metadata": {},
   "source": [
    "# Assignment SkyGeni"
   ]
  },
  {
   "cell_type": "code",
   "execution_count": 1,
   "id": "ad75bbb6-548f-467c-8204-1706e8065361",
   "metadata": {},
   "outputs": [],
   "source": [
    "# import libraries\n",
    "import pandas as pd\n",
    "import seaborn as sns\n",
    "import matplotlib.pyplot as plt\n",
    "import warnings\n",
    "warnings.filterwarnings('ignore')"
   ]
  },
  {
   "cell_type": "code",
   "execution_count": 2,
   "id": "f3f913da-acc5-4d95-b6b5-2871acd39728",
   "metadata": {},
   "outputs": [
    {
     "data": {
      "text/html": [
       "<div>\n",
       "<style scoped>\n",
       "    .dataframe tbody tr th:only-of-type {\n",
       "        vertical-align: middle;\n",
       "    }\n",
       "\n",
       "    .dataframe tbody tr th {\n",
       "        vertical-align: top;\n",
       "    }\n",
       "\n",
       "    .dataframe thead th {\n",
       "        text-align: right;\n",
       "    }\n",
       "</style>\n",
       "<table border=\"1\" class=\"dataframe\">\n",
       "  <thead>\n",
       "    <tr style=\"text-align: right;\">\n",
       "      <th></th>\n",
       "      <th>start_date</th>\n",
       "      <th>end_date</th>\n",
       "      <th>inflation_rate</th>\n",
       "      <th>gdp_growth_rate</th>\n",
       "    </tr>\n",
       "  </thead>\n",
       "  <tbody>\n",
       "    <tr>\n",
       "      <th>0</th>\n",
       "      <td>2018-01-01</td>\n",
       "      <td>2018-03-31</td>\n",
       "      <td>5.77</td>\n",
       "      <td>3.51</td>\n",
       "    </tr>\n",
       "    <tr>\n",
       "      <th>1</th>\n",
       "      <td>2018-04-01</td>\n",
       "      <td>2018-06-30</td>\n",
       "      <td>1.17</td>\n",
       "      <td>2.15</td>\n",
       "    </tr>\n",
       "  </tbody>\n",
       "</table>\n",
       "</div>"
      ],
      "text/plain": [
       "  start_date   end_date  inflation_rate  gdp_growth_rate\n",
       "0 2018-01-01 2018-03-31            5.77             3.51\n",
       "1 2018-04-01 2018-06-30            1.17             2.15"
      ]
     },
     "execution_count": 2,
     "metadata": {},
     "output_type": "execute_result"
    }
   ],
   "source": [
    "# reading finance data\n",
    "df_finance = pd.read_csv('finanical_information.csv', index_col = 0, dtype = {\"inflation_rate\": float, \"gdp_growth_rate\": float}, parse_dates = [\"start_date\", \"end_date\"])\n",
    "df_finance.head(2)"
   ]
  },
  {
   "cell_type": "code",
   "execution_count": 3,
   "id": "bcfb1cce-b8d2-40b9-be99-c4a607df7f64",
   "metadata": {},
   "outputs": [
    {
     "data": {
      "text/plain": [
       "start_date         datetime64[ns]\n",
       "end_date           datetime64[ns]\n",
       "inflation_rate            float64\n",
       "gdp_growth_rate           float64\n",
       "dtype: object"
      ]
     },
     "execution_count": 3,
     "metadata": {},
     "output_type": "execute_result"
    }
   ],
   "source": [
    "# check the data types of finance dataframe\n",
    "df_finance.dtypes"
   ]
  },
  {
   "cell_type": "code",
   "execution_count": 4,
   "id": "fa9fa21e-48c2-4691-a742-0342333244be",
   "metadata": {},
   "outputs": [
    {
     "data": {
      "text/html": [
       "<div>\n",
       "<style scoped>\n",
       "    .dataframe tbody tr th:only-of-type {\n",
       "        vertical-align: middle;\n",
       "    }\n",
       "\n",
       "    .dataframe tbody tr th {\n",
       "        vertical-align: top;\n",
       "    }\n",
       "\n",
       "    .dataframe thead th {\n",
       "        text-align: right;\n",
       "    }\n",
       "</style>\n",
       "<table border=\"1\" class=\"dataframe\">\n",
       "  <thead>\n",
       "    <tr style=\"text-align: right;\">\n",
       "      <th></th>\n",
       "      <th>client_id</th>\n",
       "      <th>company_size</th>\n",
       "      <th>industry</th>\n",
       "      <th>location</th>\n",
       "    </tr>\n",
       "  </thead>\n",
       "  <tbody>\n",
       "    <tr>\n",
       "      <th>0</th>\n",
       "      <td>4280387012</td>\n",
       "      <td>Large</td>\n",
       "      <td>Finance Lending</td>\n",
       "      <td>Mumbai</td>\n",
       "    </tr>\n",
       "    <tr>\n",
       "      <th>1</th>\n",
       "      <td>2095513148</td>\n",
       "      <td>Small</td>\n",
       "      <td>Finance Lending</td>\n",
       "      <td>Chennai</td>\n",
       "    </tr>\n",
       "  </tbody>\n",
       "</table>\n",
       "</div>"
      ],
      "text/plain": [
       "    client_id company_size         industry location\n",
       "0  4280387012        Large  Finance Lending   Mumbai\n",
       "1  2095513148        Small  Finance Lending  Chennai"
      ]
     },
     "execution_count": 4,
     "metadata": {},
     "output_type": "execute_result"
    }
   ],
   "source": [
    "# reading client data\n",
    "df_clients = pd.read_csv(\"industry_client_details.csv\")\n",
    "df_clients.head(2)"
   ]
  },
  {
   "cell_type": "code",
   "execution_count": 5,
   "id": "b4fe6a68-4710-44b1-baa7-dd7bf18f3bcc",
   "metadata": {},
   "outputs": [
    {
     "data": {
      "text/plain": [
       "client_id        int64\n",
       "company_size    object\n",
       "industry        object\n",
       "location        object\n",
       "dtype: object"
      ]
     },
     "execution_count": 5,
     "metadata": {},
     "output_type": "execute_result"
    }
   ],
   "source": [
    "# check the data types of finance dataframe\n",
    "df_clients.dtypes"
   ]
  },
  {
   "cell_type": "code",
   "execution_count": 6,
   "id": "8f827e95-0543-4540-aad6-450823dedff5",
   "metadata": {},
   "outputs": [],
   "source": [
    "# function to create standard date format column (yyyy-mm-dd) from following date format - mm/dd/yyyy\n",
    "def convert_date(x):\n",
    "    return pd.to_datetime(x, format='%m/%d/%Y')"
   ]
  },
  {
   "cell_type": "code",
   "execution_count": 7,
   "id": "c4288859-b4d1-4c6b-99da-f165b5c576d3",
   "metadata": {},
   "outputs": [
    {
     "data": {
      "text/html": [
       "<div>\n",
       "<style scoped>\n",
       "    .dataframe tbody tr th:only-of-type {\n",
       "        vertical-align: middle;\n",
       "    }\n",
       "\n",
       "    .dataframe tbody tr th {\n",
       "        vertical-align: top;\n",
       "    }\n",
       "\n",
       "    .dataframe thead th {\n",
       "        text-align: right;\n",
       "    }\n",
       "</style>\n",
       "<table border=\"1\" class=\"dataframe\">\n",
       "  <thead>\n",
       "    <tr style=\"text-align: right;\">\n",
       "      <th></th>\n",
       "      <th>client_id</th>\n",
       "      <th>payment_date</th>\n",
       "      <th>amount_paid</th>\n",
       "      <th>payment_method</th>\n",
       "    </tr>\n",
       "  </thead>\n",
       "  <tbody>\n",
       "    <tr>\n",
       "      <th>0</th>\n",
       "      <td>6292156167</td>\n",
       "      <td>2019-09-16</td>\n",
       "      <td>447.0</td>\n",
       "      <td>Bank Transfer</td>\n",
       "    </tr>\n",
       "    <tr>\n",
       "      <th>1</th>\n",
       "      <td>7462725203</td>\n",
       "      <td>2018-05-21</td>\n",
       "      <td>379.7</td>\n",
       "      <td>Bank Transfer</td>\n",
       "    </tr>\n",
       "  </tbody>\n",
       "</table>\n",
       "</div>"
      ],
      "text/plain": [
       "    client_id payment_date  amount_paid payment_method\n",
       "0  6292156167   2019-09-16        447.0  Bank Transfer\n",
       "1  7462725203   2018-05-21        379.7  Bank Transfer"
      ]
     },
     "execution_count": 7,
     "metadata": {},
     "output_type": "execute_result"
    }
   ],
   "source": [
    "# reading payment data\n",
    "df_payments = pd.read_csv(\"payment_information.csv\", converters = {\"payment_date\": convert_date})\n",
    "df_payments.head(2)"
   ]
  },
  {
   "cell_type": "code",
   "execution_count": 8,
   "id": "c5791f3b-b5e4-4166-b25f-e8a1ea316c3c",
   "metadata": {},
   "outputs": [
    {
     "data": {
      "text/plain": [
       "client_id                  int64\n",
       "payment_date      datetime64[ns]\n",
       "amount_paid              float64\n",
       "payment_method            object\n",
       "dtype: object"
      ]
     },
     "execution_count": 8,
     "metadata": {},
     "output_type": "execute_result"
    }
   ],
   "source": [
    "# check the data types of payment dataframe\n",
    "df_payments.dtypes"
   ]
  },
  {
   "cell_type": "code",
   "execution_count": 9,
   "id": "bdf72577-75b8-4fdb-abb8-01bf9f472b10",
   "metadata": {},
   "outputs": [
    {
     "data": {
      "text/html": [
       "<div>\n",
       "<style scoped>\n",
       "    .dataframe tbody tr th:only-of-type {\n",
       "        vertical-align: middle;\n",
       "    }\n",
       "\n",
       "    .dataframe tbody tr th {\n",
       "        vertical-align: top;\n",
       "    }\n",
       "\n",
       "    .dataframe thead th {\n",
       "        text-align: right;\n",
       "    }\n",
       "</style>\n",
       "<table border=\"1\" class=\"dataframe\">\n",
       "  <thead>\n",
       "    <tr style=\"text-align: right;\">\n",
       "      <th></th>\n",
       "      <th>client_id</th>\n",
       "      <th>subscription_type</th>\n",
       "      <th>start_date</th>\n",
       "      <th>end_date</th>\n",
       "      <th>renewed</th>\n",
       "    </tr>\n",
       "  </thead>\n",
       "  <tbody>\n",
       "    <tr>\n",
       "      <th>0</th>\n",
       "      <td>1131383004</td>\n",
       "      <td>Yearly</td>\n",
       "      <td>2020-11-11</td>\n",
       "      <td>2021-11-11</td>\n",
       "      <td>False</td>\n",
       "    </tr>\n",
       "    <tr>\n",
       "      <th>1</th>\n",
       "      <td>4309371709</td>\n",
       "      <td>Monthly</td>\n",
       "      <td>2021-05-24</td>\n",
       "      <td>2021-06-23</td>\n",
       "      <td>True</td>\n",
       "    </tr>\n",
       "  </tbody>\n",
       "</table>\n",
       "</div>"
      ],
      "text/plain": [
       "    client_id subscription_type start_date   end_date  renewed\n",
       "0  1131383004            Yearly 2020-11-11 2021-11-11    False\n",
       "1  4309371709           Monthly 2021-05-24 2021-06-23     True"
      ]
     },
     "execution_count": 9,
     "metadata": {},
     "output_type": "execute_result"
    }
   ],
   "source": [
    "# reading subscription data\n",
    "df_subscription = pd.read_csv(\"subscription_information.csv\", parse_dates= [\"start_date\", \"end_date\"])\n",
    "df_subscription.head(2)"
   ]
  },
  {
   "cell_type": "code",
   "execution_count": 10,
   "id": "0ec43247-f9e5-4b0f-8790-9782646f4e4c",
   "metadata": {},
   "outputs": [
    {
     "data": {
      "text/plain": [
       "client_id                     int64\n",
       "subscription_type            object\n",
       "start_date           datetime64[ns]\n",
       "end_date             datetime64[ns]\n",
       "renewed                        bool\n",
       "dtype: object"
      ]
     },
     "execution_count": 10,
     "metadata": {},
     "output_type": "execute_result"
    }
   ],
   "source": [
    "# check the data types of subscription dataframe\n",
    "df_subscription.dtypes"
   ]
  },
  {
   "cell_type": "code",
   "execution_count": 11,
   "id": "62a84a6f-c624-42b7-8c01-fa96cddf9951",
   "metadata": {},
   "outputs": [
    {
     "name": "stdout",
     "output_type": "stream",
     "text": [
      "<class 'pandas.core.frame.DataFrame'>\n",
      "Index: 21 entries, 0 to 20\n",
      "Data columns (total 4 columns):\n",
      " #   Column           Non-Null Count  Dtype         \n",
      "---  ------           --------------  -----         \n",
      " 0   start_date       21 non-null     datetime64[ns]\n",
      " 1   end_date         21 non-null     datetime64[ns]\n",
      " 2   inflation_rate   21 non-null     float64       \n",
      " 3   gdp_growth_rate  21 non-null     float64       \n",
      "dtypes: datetime64[ns](2), float64(2)\n",
      "memory usage: 840.0 bytes\n",
      "None\n"
     ]
    }
   ],
   "source": [
    "# chcking the null columns in finance dataframe\n",
    "print(df_finance.info())"
   ]
  },
  {
   "cell_type": "code",
   "execution_count": 12,
   "id": "acd4ad85-3a40-45e5-8781-ef32d7c54638",
   "metadata": {},
   "outputs": [
    {
     "name": "stdout",
     "output_type": "stream",
     "text": [
      "<class 'pandas.core.frame.DataFrame'>\n",
      "RangeIndex: 100 entries, 0 to 99\n",
      "Data columns (total 4 columns):\n",
      " #   Column        Non-Null Count  Dtype \n",
      "---  ------        --------------  ----- \n",
      " 0   client_id     100 non-null    int64 \n",
      " 1   company_size  100 non-null    object\n",
      " 2   industry      100 non-null    object\n",
      " 3   location      100 non-null    object\n",
      "dtypes: int64(1), object(3)\n",
      "memory usage: 3.3+ KB\n",
      "None\n"
     ]
    }
   ],
   "source": [
    "# chcking the null columns in clients dataframe\n",
    "print(df_clients.info())"
   ]
  },
  {
   "cell_type": "code",
   "execution_count": 13,
   "id": "5c79ac40-c7c7-4065-bb8a-10a3cc95e998",
   "metadata": {},
   "outputs": [
    {
     "name": "stdout",
     "output_type": "stream",
     "text": [
      "<class 'pandas.core.frame.DataFrame'>\n",
      "RangeIndex: 100 entries, 0 to 99\n",
      "Data columns (total 4 columns):\n",
      " #   Column          Non-Null Count  Dtype         \n",
      "---  ------          --------------  -----         \n",
      " 0   client_id       100 non-null    int64         \n",
      " 1   payment_date    100 non-null    datetime64[ns]\n",
      " 2   amount_paid     100 non-null    float64       \n",
      " 3   payment_method  100 non-null    object        \n",
      "dtypes: datetime64[ns](1), float64(1), int64(1), object(1)\n",
      "memory usage: 3.3+ KB\n",
      "None\n"
     ]
    }
   ],
   "source": [
    "# chcking the null columns in payments dataframe\n",
    "print(df_payments.info())"
   ]
  },
  {
   "cell_type": "code",
   "execution_count": 14,
   "id": "5cd77f1f-fa0f-4164-9dcd-8775b993f333",
   "metadata": {},
   "outputs": [
    {
     "name": "stdout",
     "output_type": "stream",
     "text": [
      "<class 'pandas.core.frame.DataFrame'>\n",
      "RangeIndex: 100 entries, 0 to 99\n",
      "Data columns (total 5 columns):\n",
      " #   Column             Non-Null Count  Dtype         \n",
      "---  ------             --------------  -----         \n",
      " 0   client_id          100 non-null    int64         \n",
      " 1   subscription_type  100 non-null    object        \n",
      " 2   start_date         100 non-null    datetime64[ns]\n",
      " 3   end_date           100 non-null    datetime64[ns]\n",
      " 4   renewed            100 non-null    bool          \n",
      "dtypes: bool(1), datetime64[ns](2), int64(1), object(1)\n",
      "memory usage: 3.4+ KB\n",
      "None\n"
     ]
    }
   ],
   "source": [
    "# chcking the null columns in subscription dataframe\n",
    "print(df_subscription.info())"
   ]
  },
  {
   "cell_type": "code",
   "execution_count": 15,
   "id": "7cd7bafa-dd7b-4c0a-b130-c369baf385da",
   "metadata": {},
   "outputs": [
    {
     "name": "stdout",
     "output_type": "stream",
     "text": [
      "                          start_date             end_date  inflation_rate  \\\n",
      "count                             21                   21       21.000000   \n",
      "mean   2020-07-01 05:42:51.428571392  2020-09-25 08:00:00        4.426667   \n",
      "min              2018-01-01 00:00:00  2018-03-31 00:00:00        0.760000   \n",
      "25%              2019-04-01 00:00:00  2019-06-30 00:00:00        2.710000   \n",
      "50%              2020-07-01 00:00:00  2020-09-30 00:00:00        4.400000   \n",
      "75%              2021-10-01 00:00:00  2021-12-31 00:00:00        6.760000   \n",
      "max              2023-01-01 00:00:00  2023-01-03 00:00:00        7.710000   \n",
      "std                              NaN                  NaN        2.245801   \n",
      "\n",
      "       gdp_growth_rate  \n",
      "count        21.000000  \n",
      "mean          2.345238  \n",
      "min           1.040000  \n",
      "25%           1.360000  \n",
      "50%           2.400000  \n",
      "75%           3.440000  \n",
      "max           3.630000  \n",
      "std           0.952747  \n"
     ]
    }
   ],
   "source": [
    "# glance of finance data\n",
    "print(df_finance.describe())"
   ]
  },
  {
   "cell_type": "code",
   "execution_count": 16,
   "id": "9d4674a5-5f41-492f-b9df-f86b2155cc95",
   "metadata": {},
   "outputs": [
    {
     "name": "stdout",
     "output_type": "stream",
     "text": [
      "          client_id         payment_date  amount_paid\n",
      "count  1.000000e+02                  100   100.000000\n",
      "mean   5.663055e+09  2020-07-15 04:19:12   287.269000\n",
      "min    1.077709e+09  2018-02-10 00:00:00    61.100000\n",
      "25%    3.778644e+09  2019-06-08 18:00:00   191.050000\n",
      "50%    5.508879e+09  2020-08-09 00:00:00   286.400000\n",
      "75%    7.571385e+09  2021-09-12 00:00:00   411.225000\n",
      "max    9.842415e+09  2022-12-20 00:00:00   494.600000\n",
      "std    2.429520e+09                  NaN   133.599908\n"
     ]
    }
   ],
   "source": [
    "# glance of payments data\n",
    "print(df_payments.describe())"
   ]
  },
  {
   "cell_type": "code",
   "execution_count": 17,
   "id": "4769676a-5c03-43e1-a6bf-ac803f69ea64",
   "metadata": {},
   "outputs": [
    {
     "name": "stdout",
     "output_type": "stream",
     "text": [
      "          client_id           start_date             end_date\n",
      "count  1.000000e+02                  100                  100\n",
      "mean   5.663055e+09  2020-07-15 04:19:12  2021-01-05 05:31:12\n",
      "min    1.077709e+09  2018-02-10 00:00:00  2018-04-03 00:00:00\n",
      "25%    3.778644e+09  2019-06-08 18:00:00  2019-09-29 18:00:00\n",
      "50%    5.508879e+09  2020-08-09 00:00:00  2021-01-06 12:00:00\n",
      "75%    7.571385e+09  2021-09-12 00:00:00  2022-01-22 00:00:00\n",
      "max    9.842415e+09  2022-12-20 00:00:00  2023-12-20 00:00:00\n",
      "std    2.429520e+09                  NaN                  NaN\n"
     ]
    }
   ],
   "source": [
    "# glance of subscription data\n",
    "print(df_subscription.describe())"
   ]
  },
  {
   "cell_type": "markdown",
   "id": "347f972f-2f98-4b8a-9ed9-12d3f6eae11d",
   "metadata": {},
   "source": [
    "##### As boxplot is the easiest way to identify outliers, it used"
   ]
  },
  {
   "cell_type": "code",
   "execution_count": 18,
   "id": "2a629e90-094f-42c0-80dc-878d768ec37d",
   "metadata": {},
   "outputs": [
    {
     "data": {
      "image/png": "[encoded data removed]",
      "text/plain": [
       "<Figure size 640x480 with 1 Axes>"
      ]
     },
     "metadata": {},
     "output_type": "display_data"
    }
   ],
   "source": [
    "sns.boxplot(df_finance['inflation_rate'])\n",
    "plt.ylabel('Inflation rate')\n",
    "plt.title('Inflation rate - Boxplot', fontsize = 12)\n",
    "plt.show()"
   ]
  },
  {
   "cell_type": "code",
   "execution_count": 19,
   "id": "c5ed0aed-8ea1-4da6-9dc2-eb02b8645521",
   "metadata": {},
   "outputs": [
    {
     "data": {
      "image/png": "[encoded data removed]",
      "text/plain": [
       "<Figure size 640x480 with 1 Axes>"
      ]
     },
     "metadata": {},
     "output_type": "display_data"
    }
   ],
   "source": [
    "sns.boxplot(df_finance['gdp_growth_rate'])\n",
    "plt.ylabel('GDP growth rate')\n",
    "plt.title('GDP growth rate - Boxplot', fontsize = 12)\n",
    "plt.show()"
   ]
  },
  {
   "cell_type": "code",
   "execution_count": 20,
   "id": "ba90a934-039a-4fab-9baf-cc8a72283354",
   "metadata": {},
   "outputs": [
    {
     "data": {
      "image/png": "[encoded data removed]",
      "text/plain": [
       "<Figure size 640x480 with 1 Axes>"
      ]
     },
     "metadata": {},
     "output_type": "display_data"
    }
   ],
   "source": [
    "sns.boxplot(df_payments['amount_paid'])\n",
    "plt.ylabel('Amount paid')\n",
    "plt.title('Amount paid - Boxplot', fontsize = 12)\n",
    "plt.show()"
   ]
  },
  {
   "cell_type": "markdown",
   "id": "c3f9cf52-df44-457d-9295-311781e74401",
   "metadata": {},
   "source": [
    "### check for duplicated records"
   ]
  },
  {
   "cell_type": "code",
   "execution_count": 21,
   "id": "d90d5dbc-7d10-488c-97c0-e2c66da01162",
   "metadata": {},
   "outputs": [
    {
     "name": "stdout",
     "output_type": "stream",
     "text": [
      "0\n"
     ]
    }
   ],
   "source": [
    "print(df_finance.duplicated().sum())"
   ]
  },
  {
   "cell_type": "code",
   "execution_count": 22,
   "id": "b802ea3b-3b08-46a1-a70e-38a8db6364b8",
   "metadata": {},
   "outputs": [
    {
     "name": "stdout",
     "output_type": "stream",
     "text": [
      "0\n"
     ]
    }
   ],
   "source": [
    "print(df_clients.duplicated().sum())"
   ]
  },
  {
   "cell_type": "code",
   "execution_count": 23,
   "id": "18012115-6c56-4ba2-9744-cc952920bbb1",
   "metadata": {},
   "outputs": [
    {
     "name": "stdout",
     "output_type": "stream",
     "text": [
      "0\n"
     ]
    }
   ],
   "source": [
    "print(df_payments.duplicated().sum())"
   ]
  },
  {
   "cell_type": "code",
   "execution_count": 24,
   "id": "eef544c9-2cf8-49a2-bfad-64d71177c348",
   "metadata": {},
   "outputs": [
    {
     "name": "stdout",
     "output_type": "stream",
     "text": [
      "0\n"
     ]
    }
   ],
   "source": [
    "print(df_subscription.duplicated().sum())"
   ]
  },
  {
   "cell_type": "markdown",
   "id": "1909570a-dbfa-497f-8c0c-9dc0dfddbf64",
   "metadata": {},
   "source": [
    "# 1. How many finance lending and blockchain clients does the organization have?"
   ]
  },
  {
   "cell_type": "code",
   "execution_count": 25,
   "id": "fdcfa5d2-4e71-4770-8313-e323257572f1",
   "metadata": {},
   "outputs": [
    {
     "name": "stdout",
     "output_type": "stream",
     "text": [
      "['Finance Lending' 'Block Chain' 'Hyper Local' 'AI' 'Gaming']\n"
     ]
    }
   ],
   "source": [
    "# for our knowledge - how many , and who are the clients the organization have.\n",
    "print(df_clients['industry'].unique())"
   ]
  },
  {
   "cell_type": "code",
   "execution_count": 26,
   "id": "754c9c2c-b72d-4b67-ab55-1bf4298c366a",
   "metadata": {},
   "outputs": [],
   "source": [
    "# Possible scenario: We can categorize them as follows\n",
    "# 1. Currently active(renewed) clients\n",
    "# 2. Previous clients"
   ]
  },
  {
   "cell_type": "markdown",
   "id": "4b4fa6de-eeb2-4ce5-a2c2-e6e06b877e54",
   "metadata": {},
   "source": [
    "### Current clients"
   ]
  },
  {
   "cell_type": "code",
   "execution_count": 27,
   "id": "27c521ad-414c-4d47-9370-1dd0f9a5188c",
   "metadata": {},
   "outputs": [
    {
     "data": {
      "text/plain": [
       "count                    100\n",
       "mean     2021-01-05 05:31:12\n",
       "min      2018-04-03 00:00:00\n",
       "25%      2019-09-29 18:00:00\n",
       "50%      2021-01-06 12:00:00\n",
       "75%      2022-01-22 00:00:00\n",
       "max      2023-12-20 00:00:00\n",
       "Name: end_date, dtype: object"
      ]
     },
     "execution_count": 27,
     "metadata": {},
     "output_type": "execute_result"
    }
   ],
   "source": [
    "df_subscription['end_date'].describe()"
   ]
  },
  {
   "cell_type": "markdown",
   "id": "1ff7ae36-ab77-4423-9441-56335d1a86d8",
   "metadata": {},
   "source": [
    "##### We have past records only."
   ]
  },
  {
   "cell_type": "markdown",
   "id": "67a5c1f8-4a77-4048-9fe8-fe136f66f197",
   "metadata": {},
   "source": [
    "### Past clients"
   ]
  },
  {
   "cell_type": "code",
   "execution_count": 28,
   "id": "8133c941-7bb9-41f2-814c-93cbe18b0a51",
   "metadata": {},
   "outputs": [
    {
     "name": "stdout",
     "output_type": "stream",
     "text": [
      "47\n"
     ]
    }
   ],
   "source": [
    "# Filter only Finance Lending and Block Chain industry and count the unique clients\n",
    "print(len(df_clients[(df_clients['industry'] == 'Finance Lending') | (df_clients['industry'] == 'Block Chain')]['client_id'].unique()))"
   ]
  },
  {
   "cell_type": "markdown",
   "id": "e3c15733-bb51-490d-b6a5-bfc1f3572eed",
   "metadata": {},
   "source": [
    "### The Organization have 47 finance lending and blockchain clients."
   ]
  },
  {
   "cell_type": "markdown",
   "id": "40808a65-973e-486a-9dbb-ca582b89cb08",
   "metadata": {},
   "source": [
    "---"
   ]
  },
  {
   "cell_type": "markdown",
   "id": "c89bd3aa-96ea-4d26-b2da-d3b20ae773a3",
   "metadata": {},
   "source": [
    "# 2.\tWhich industry in the organization has the highest renewal rate?"
   ]
  },
  {
   "cell_type": "code",
   "execution_count": 29,
   "id": "330e1e69-2a43-4970-9b22-8927b68e7a85",
   "metadata": {},
   "outputs": [
    {
     "data": {
      "text/plain": [
       "renewed\n",
       "True     55\n",
       "False    45\n",
       "Name: count, dtype: int64"
      ]
     },
     "execution_count": 29,
     "metadata": {},
     "output_type": "execute_result"
    }
   ],
   "source": [
    "df_subscription['renewed'].value_counts()"
   ]
  },
  {
   "cell_type": "code",
   "execution_count": 30,
   "id": "1c98a92c-3a68-4b9a-b414-42e27efd6b0e",
   "metadata": {},
   "outputs": [],
   "source": [
    "# create a new dataframe only with subscription renewed data\n",
    "df_subscription_renewed = df_subscription[df_subscription['renewed'] == True]"
   ]
  },
  {
   "cell_type": "code",
   "execution_count": 31,
   "id": "a8ac0a1e-d63f-403d-8b04-f8917f1f11a4",
   "metadata": {},
   "outputs": [
    {
     "data": {
      "text/html": [
       "<div>\n",
       "<style scoped>\n",
       "    .dataframe tbody tr th:only-of-type {\n",
       "        vertical-align: middle;\n",
       "    }\n",
       "\n",
       "    .dataframe tbody tr th {\n",
       "        vertical-align: top;\n",
       "    }\n",
       "\n",
       "    .dataframe thead th {\n",
       "        text-align: right;\n",
       "    }\n",
       "</style>\n",
       "<table border=\"1\" class=\"dataframe\">\n",
       "  <thead>\n",
       "    <tr style=\"text-align: right;\">\n",
       "      <th></th>\n",
       "      <th>client_id</th>\n",
       "      <th>company_size</th>\n",
       "      <th>industry</th>\n",
       "      <th>location</th>\n",
       "      <th>subscription_type</th>\n",
       "      <th>start_date</th>\n",
       "      <th>end_date</th>\n",
       "      <th>renewed</th>\n",
       "    </tr>\n",
       "  </thead>\n",
       "  <tbody>\n",
       "    <tr>\n",
       "      <th>0</th>\n",
       "      <td>4280387012</td>\n",
       "      <td>Large</td>\n",
       "      <td>Finance Lending</td>\n",
       "      <td>Mumbai</td>\n",
       "      <td>Yearly</td>\n",
       "      <td>2022-11-25</td>\n",
       "      <td>2023-11-25</td>\n",
       "      <td>True</td>\n",
       "    </tr>\n",
       "    <tr>\n",
       "      <th>1</th>\n",
       "      <td>7225516707</td>\n",
       "      <td>Medium</td>\n",
       "      <td>Finance Lending</td>\n",
       "      <td>New Delhi</td>\n",
       "      <td>Yearly</td>\n",
       "      <td>2021-01-19</td>\n",
       "      <td>2022-01-19</td>\n",
       "      <td>True</td>\n",
       "    </tr>\n",
       "  </tbody>\n",
       "</table>\n",
       "</div>"
      ],
      "text/plain": [
       "    client_id company_size         industry   location subscription_type  \\\n",
       "0  4280387012        Large  Finance Lending     Mumbai            Yearly   \n",
       "1  7225516707       Medium  Finance Lending  New Delhi            Yearly   \n",
       "\n",
       "  start_date   end_date  renewed  \n",
       "0 2022-11-25 2023-11-25     True  \n",
       "1 2021-01-19 2022-01-19     True  "
      ]
     },
     "execution_count": 31,
     "metadata": {},
     "output_type": "execute_result"
    }
   ],
   "source": [
    "# create a new dataframe by joining clients dataframe and subscription renewed dataframe\n",
    "df_org_renewel = pd.merge(df_clients, df_subscription_renewed, how = 'inner', on = 'client_id')\n",
    "df_org_renewel.head(2)"
   ]
  },
  {
   "cell_type": "code",
   "execution_count": 32,
   "id": "40ab3ed1-7c79-471b-b69c-170a3bd59c35",
   "metadata": {},
   "outputs": [
    {
     "data": {
      "text/plain": [
       "industry\n",
       "Gaming             16\n",
       "Finance Lending    12\n",
       "Block Chain        11\n",
       "Hyper Local         9\n",
       "AI                  7\n",
       "Name: count, dtype: int64"
      ]
     },
     "execution_count": 32,
     "metadata": {},
     "output_type": "execute_result"
    }
   ],
   "source": [
    "# for our knowledge checking all the industry and their renewel rate\n",
    "df_org_renewel['industry'].value_counts()"
   ]
  },
  {
   "cell_type": "code",
   "execution_count": 33,
   "id": "377e465d-9e00-45ff-bcf1-be8c470ddb02",
   "metadata": {},
   "outputs": [
    {
     "data": {
      "text/plain": [
       "industry\n",
       "Gaming    16\n",
       "Name: count, dtype: int64"
      ]
     },
     "execution_count": 33,
     "metadata": {},
     "output_type": "execute_result"
    }
   ],
   "source": [
    "# filter only the top industry which having highest renewel rate\n",
    "df_org_renewel['industry'].value_counts().head(1)"
   ]
  },
  {
   "cell_type": "markdown",
   "id": "e99bb5af-7f6c-4051-a0a5-6fe8d694fda1",
   "metadata": {},
   "source": [
    "### Gaming industry in the organization has the highest renewal rate - 16 renewels"
   ]
  },
  {
   "cell_type": "markdown",
   "id": "7adbc700-11f7-4d32-8d03-c09537ee9a6f",
   "metadata": {},
   "source": [
    "---"
   ]
  },
  {
   "cell_type": "markdown",
   "id": "d9717095-2b2c-48aa-b643-943040ce3a4e",
   "metadata": {},
   "source": [
    "# 3.\tWhat was the average inflation rate when their subscriptions were renewed?"
   ]
  },
  {
   "cell_type": "code",
   "execution_count": 34,
   "id": "a4bf5443-9fc9-4ea4-a54d-7d28ec2cee35",
   "metadata": {},
   "outputs": [
    {
     "data": {
      "text/html": [
       "<div>\n",
       "<style scoped>\n",
       "    .dataframe tbody tr th:only-of-type {\n",
       "        vertical-align: middle;\n",
       "    }\n",
       "\n",
       "    .dataframe tbody tr th {\n",
       "        vertical-align: top;\n",
       "    }\n",
       "\n",
       "    .dataframe thead th {\n",
       "        text-align: right;\n",
       "    }\n",
       "</style>\n",
       "<table border=\"1\" class=\"dataframe\">\n",
       "  <thead>\n",
       "    <tr style=\"text-align: right;\">\n",
       "      <th></th>\n",
       "      <th>client_id</th>\n",
       "      <th>company_size</th>\n",
       "      <th>industry</th>\n",
       "      <th>location</th>\n",
       "      <th>subscription_type</th>\n",
       "      <th>start_date</th>\n",
       "      <th>end_date</th>\n",
       "      <th>renewed</th>\n",
       "      <th>quarter_start_date</th>\n",
       "      <th>year</th>\n",
       "      <th>month</th>\n",
       "    </tr>\n",
       "  </thead>\n",
       "  <tbody>\n",
       "    <tr>\n",
       "      <th>9</th>\n",
       "      <td>3758633299</td>\n",
       "      <td>Large</td>\n",
       "      <td>Gaming</td>\n",
       "      <td>Banglore</td>\n",
       "      <td>Monthly</td>\n",
       "      <td>2021-04-24</td>\n",
       "      <td>2021-05-24</td>\n",
       "      <td>True</td>\n",
       "      <td>2021-04-01</td>\n",
       "      <td>2021</td>\n",
       "      <td>4</td>\n",
       "    </tr>\n",
       "    <tr>\n",
       "      <th>12</th>\n",
       "      <td>5443254615</td>\n",
       "      <td>Medium</td>\n",
       "      <td>Gaming</td>\n",
       "      <td>New Delhi</td>\n",
       "      <td>Yearly</td>\n",
       "      <td>2020-06-25</td>\n",
       "      <td>2021-06-25</td>\n",
       "      <td>True</td>\n",
       "      <td>2020-04-01</td>\n",
       "      <td>2020</td>\n",
       "      <td>4</td>\n",
       "    </tr>\n",
       "  </tbody>\n",
       "</table>\n",
       "</div>"
      ],
      "text/plain": [
       "     client_id company_size industry   location subscription_type start_date  \\\n",
       "9   3758633299        Large   Gaming   Banglore           Monthly 2021-04-24   \n",
       "12  5443254615       Medium   Gaming  New Delhi            Yearly 2020-06-25   \n",
       "\n",
       "     end_date  renewed quarter_start_date  year  month  \n",
       "9  2021-05-24     True         2021-04-01  2021      4  \n",
       "12 2021-06-25     True         2020-04-01  2020      4  "
      ]
     },
     "execution_count": 34,
     "metadata": {},
     "output_type": "execute_result"
    }
   ],
   "source": [
    "# to get the starting quarter month of subscription renewed for gaming industry\n",
    "df_org_gaming = df_org_renewel[df_org_renewel['industry'] == 'Gaming']\n",
    "df_org_gaming['quarter_start_date'] = df_org_gaming['start_date'].dt.to_period('Q').dt.start_time\n",
    "df_org_gaming['year'] = df_org_gaming['quarter_start_date'].dt.year\n",
    "df_org_gaming['month'] = df_org_gaming['quarter_start_date'].dt.month\n",
    "df_org_gaming.head(2)"
   ]
  },
  {
   "cell_type": "code",
   "execution_count": 35,
   "id": "118f6705-ae25-4661-bb6b-d57b84ccc9b0",
   "metadata": {},
   "outputs": [
    {
     "data": {
      "text/html": [
       "<div>\n",
       "<style scoped>\n",
       "    .dataframe tbody tr th:only-of-type {\n",
       "        vertical-align: middle;\n",
       "    }\n",
       "\n",
       "    .dataframe tbody tr th {\n",
       "        vertical-align: top;\n",
       "    }\n",
       "\n",
       "    .dataframe thead th {\n",
       "        text-align: right;\n",
       "    }\n",
       "</style>\n",
       "<table border=\"1\" class=\"dataframe\">\n",
       "  <thead>\n",
       "    <tr style=\"text-align: right;\">\n",
       "      <th></th>\n",
       "      <th>start_date</th>\n",
       "      <th>end_date</th>\n",
       "      <th>inflation_rate</th>\n",
       "      <th>gdp_growth_rate</th>\n",
       "      <th>year</th>\n",
       "      <th>month</th>\n",
       "    </tr>\n",
       "  </thead>\n",
       "  <tbody>\n",
       "    <tr>\n",
       "      <th>0</th>\n",
       "      <td>2018-01-01</td>\n",
       "      <td>2018-03-31</td>\n",
       "      <td>5.77</td>\n",
       "      <td>3.51</td>\n",
       "      <td>2018</td>\n",
       "      <td>1</td>\n",
       "    </tr>\n",
       "    <tr>\n",
       "      <th>1</th>\n",
       "      <td>2018-04-01</td>\n",
       "      <td>2018-06-30</td>\n",
       "      <td>1.17</td>\n",
       "      <td>2.15</td>\n",
       "      <td>2018</td>\n",
       "      <td>4</td>\n",
       "    </tr>\n",
       "  </tbody>\n",
       "</table>\n",
       "</div>"
      ],
      "text/plain": [
       "  start_date   end_date  inflation_rate  gdp_growth_rate  year  month\n",
       "0 2018-01-01 2018-03-31            5.77             3.51  2018      1\n",
       "1 2018-04-01 2018-06-30            1.17             2.15  2018      4"
      ]
     },
     "execution_count": 35,
     "metadata": {},
     "output_type": "execute_result"
    }
   ],
   "source": [
    "# extracting year, and month from finance dataframe and create a new column\n",
    "df_finance['year'] = df_finance['start_date'].dt.year\n",
    "df_finance['month'] = df_finance['start_date'].dt.month\n",
    "df_finance.head(2)"
   ]
  },
  {
   "cell_type": "code",
   "execution_count": 36,
   "id": "94d268e8-c38b-4ede-8c10-d519ff8ee325",
   "metadata": {},
   "outputs": [
    {
     "data": {
      "text/html": [
       "<div>\n",
       "<style scoped>\n",
       "    .dataframe tbody tr th:only-of-type {\n",
       "        vertical-align: middle;\n",
       "    }\n",
       "\n",
       "    .dataframe tbody tr th {\n",
       "        vertical-align: top;\n",
       "    }\n",
       "\n",
       "    .dataframe thead th {\n",
       "        text-align: right;\n",
       "    }\n",
       "</style>\n",
       "<table border=\"1\" class=\"dataframe\">\n",
       "  <thead>\n",
       "    <tr style=\"text-align: right;\">\n",
       "      <th></th>\n",
       "      <th>client_id</th>\n",
       "      <th>company_size</th>\n",
       "      <th>industry</th>\n",
       "      <th>location</th>\n",
       "      <th>subscription_type</th>\n",
       "      <th>start_date_x</th>\n",
       "      <th>end_date_x</th>\n",
       "      <th>renewed</th>\n",
       "      <th>quarter_start_date</th>\n",
       "      <th>year</th>\n",
       "      <th>month</th>\n",
       "      <th>start_date_y</th>\n",
       "      <th>end_date_y</th>\n",
       "      <th>inflation_rate</th>\n",
       "      <th>gdp_growth_rate</th>\n",
       "    </tr>\n",
       "  </thead>\n",
       "  <tbody>\n",
       "    <tr>\n",
       "      <th>0</th>\n",
       "      <td>3758633299</td>\n",
       "      <td>Large</td>\n",
       "      <td>Gaming</td>\n",
       "      <td>Banglore</td>\n",
       "      <td>Monthly</td>\n",
       "      <td>2021-04-24</td>\n",
       "      <td>2021-05-24</td>\n",
       "      <td>True</td>\n",
       "      <td>2021-04-01</td>\n",
       "      <td>2021</td>\n",
       "      <td>4</td>\n",
       "      <td>2021-04-01</td>\n",
       "      <td>2021-06-30</td>\n",
       "      <td>0.76</td>\n",
       "      <td>3.63</td>\n",
       "    </tr>\n",
       "    <tr>\n",
       "      <th>1</th>\n",
       "      <td>5443254615</td>\n",
       "      <td>Medium</td>\n",
       "      <td>Gaming</td>\n",
       "      <td>New Delhi</td>\n",
       "      <td>Yearly</td>\n",
       "      <td>2020-06-25</td>\n",
       "      <td>2021-06-25</td>\n",
       "      <td>True</td>\n",
       "      <td>2020-04-01</td>\n",
       "      <td>2020</td>\n",
       "      <td>4</td>\n",
       "      <td>2020-04-01</td>\n",
       "      <td>2020-06-30</td>\n",
       "      <td>4.69</td>\n",
       "      <td>1.23</td>\n",
       "    </tr>\n",
       "  </tbody>\n",
       "</table>\n",
       "</div>"
      ],
      "text/plain": [
       "    client_id company_size industry   location subscription_type start_date_x  \\\n",
       "0  3758633299        Large   Gaming   Banglore           Monthly   2021-04-24   \n",
       "1  5443254615       Medium   Gaming  New Delhi            Yearly   2020-06-25   \n",
       "\n",
       "  end_date_x  renewed quarter_start_date  year  month start_date_y end_date_y  \\\n",
       "0 2021-05-24     True         2021-04-01  2021      4   2021-04-01 2021-06-30   \n",
       "1 2021-06-25     True         2020-04-01  2020      4   2020-04-01 2020-06-30   \n",
       "\n",
       "   inflation_rate  gdp_growth_rate  \n",
       "0            0.76             3.63  \n",
       "1            4.69             1.23  "
      ]
     },
     "execution_count": 36,
     "metadata": {},
     "output_type": "execute_result"
    }
   ],
   "source": [
    "# join subscription renewed for gaming dataframe with finance dataframe\n",
    "df_avg_gaming_inflation = pd.merge(df_org_gaming, df_finance, how = 'left', on = ['year', 'month'])\n",
    "df_avg_gaming_inflation.head(2)"
   ]
  },
  {
   "cell_type": "code",
   "execution_count": 37,
   "id": "82d81bfb-33ac-489e-96af-7c329f811277",
   "metadata": {},
   "outputs": [
    {
     "data": {
      "text/plain": [
       "4.59"
      ]
     },
     "execution_count": 37,
     "metadata": {},
     "output_type": "execute_result"
    }
   ],
   "source": [
    "df_avg_gaming_inflation['inflation_rate'].mean()"
   ]
  },
  {
   "cell_type": "markdown",
   "id": "75a463dc-37fb-4698-96a3-9fd1b55ad94c",
   "metadata": {},
   "source": [
    "### Gaming industry's average inflation rate was 4.59 when their subscriptions were renewed"
   ]
  },
  {
   "cell_type": "markdown",
   "id": "893bea27-1ed6-48bd-84b9-31ee5152e21b",
   "metadata": {},
   "source": [
    "---"
   ]
  },
  {
   "cell_type": "markdown",
   "id": "60ea682c-36e5-47dd-9bf6-e1b51d0292c8",
   "metadata": {},
   "source": [
    "# 4.\tWhat is the median amount paid each year for all payment methods? "
   ]
  },
  {
   "cell_type": "code",
   "execution_count": 38,
   "id": "5b1cea42-a923-4aee-8fb8-a898fbcd8fc0",
   "metadata": {},
   "outputs": [
    {
     "data": {
      "text/html": [
       "<div>\n",
       "<style scoped>\n",
       "    .dataframe tbody tr th:only-of-type {\n",
       "        vertical-align: middle;\n",
       "    }\n",
       "\n",
       "    .dataframe tbody tr th {\n",
       "        vertical-align: top;\n",
       "    }\n",
       "\n",
       "    .dataframe thead th {\n",
       "        text-align: right;\n",
       "    }\n",
       "</style>\n",
       "<table border=\"1\" class=\"dataframe\">\n",
       "  <thead>\n",
       "    <tr style=\"text-align: right;\">\n",
       "      <th></th>\n",
       "      <th>client_id</th>\n",
       "      <th>payment_date</th>\n",
       "      <th>amount_paid</th>\n",
       "      <th>payment_method</th>\n",
       "      <th>payment_year</th>\n",
       "    </tr>\n",
       "  </thead>\n",
       "  <tbody>\n",
       "    <tr>\n",
       "      <th>0</th>\n",
       "      <td>6292156167</td>\n",
       "      <td>2019-09-16</td>\n",
       "      <td>447.0</td>\n",
       "      <td>Bank Transfer</td>\n",
       "      <td>2019</td>\n",
       "    </tr>\n",
       "    <tr>\n",
       "      <th>1</th>\n",
       "      <td>7462725203</td>\n",
       "      <td>2018-05-21</td>\n",
       "      <td>379.7</td>\n",
       "      <td>Bank Transfer</td>\n",
       "      <td>2018</td>\n",
       "    </tr>\n",
       "  </tbody>\n",
       "</table>\n",
       "</div>"
      ],
      "text/plain": [
       "    client_id payment_date  amount_paid payment_method  payment_year\n",
       "0  6292156167   2019-09-16        447.0  Bank Transfer          2019\n",
       "1  7462725203   2018-05-21        379.7  Bank Transfer          2018"
      ]
     },
     "execution_count": 38,
     "metadata": {},
     "output_type": "execute_result"
    }
   ],
   "source": [
    "# extract year from payment year column and create a new column\n",
    "df_payments['payment_year'] = df_payments['payment_date'].dt.year\n",
    "df_payments.head(2)"
   ]
  },
  {
   "cell_type": "code",
   "execution_count": 39,
   "id": "209a87b0-68b9-4e80-9532-0fd4427b5d55",
   "metadata": {},
   "outputs": [
    {
     "data": {
      "text/plain": [
       "array(['Bank Transfer', 'Check', 'Credit Card'], dtype=object)"
      ]
     },
     "execution_count": 39,
     "metadata": {},
     "output_type": "execute_result"
    }
   ],
   "source": [
    "# for our knowledge - check the unique payment method the data have\n",
    "df_payments['payment_method'].unique()"
   ]
  },
  {
   "cell_type": "code",
   "execution_count": 40,
   "id": "0ff65dae-21ee-4d35-8dc6-cd5bb6c0fd7c",
   "metadata": {},
   "outputs": [
    {
     "data": {
      "text/plain": [
       "payment_year  payment_method\n",
       "2018          Bank Transfer     281.65\n",
       "              Check             216.60\n",
       "              Credit Card       229.15\n",
       "2019          Bank Transfer     184.20\n",
       "              Check             410.20\n",
       "              Credit Card       401.90\n",
       "2020          Bank Transfer     225.10\n",
       "              Check             413.10\n",
       "              Credit Card       285.25\n",
       "2021          Bank Transfer     255.30\n",
       "              Check             435.10\n",
       "              Credit Card       208.70\n",
       "2022          Bank Transfer     196.50\n",
       "              Check             275.50\n",
       "              Credit Card       326.20\n",
       "Name: amount_paid, dtype: float64"
      ]
     },
     "execution_count": 40,
     "metadata": {},
     "output_type": "execute_result"
    }
   ],
   "source": [
    "# calculating median value for each year, for each payment method\n",
    "df_payments.groupby(['payment_year', 'payment_method'])['amount_paid'].median()"
   ]
  },
  {
   "cell_type": "markdown",
   "id": "158c0ec8-9735-4a4a-921b-b1ef94785ee8",
   "metadata": {},
   "source": [
    "---"
   ]
  }
 ],
 "metadata": {
  "kernelspec": {
   "display_name": "Python 3 (ipykernel)",
   "language": "python",
   "name": "python3"
  },
  "language_info": {
   "codemirror_mode": {
    "name": "ipython",
    "version": 3
   },
   "file_extension": ".py",
   "mimetype": "text/x-python",
   "name": "python",
   "nbconvert_exporter": "python",
   "pygments_lexer": "ipython3",
   "version": "3.12.0"
  }
 },
 "nbformat": 4,
 "nbformat_minor": 5
}
